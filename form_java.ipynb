{
  "nbformat": 4,
  "nbformat_minor": 0,
  "metadata": {
    "colab": {
      "provenance": [],
      "authorship_tag": "ABX9TyMY5wA34o/DDCHIoNcainEE",
      "include_colab_link": true
    },
    "kernelspec": {
      "name": "python3",
      "display_name": "Python 3"
    },
    "language_info": {
      "name": "python"
    }
  },
  "cells": [
    {
      "cell_type": "markdown",
      "metadata": {
        "id": "view-in-github",
        "colab_type": "text"
      },
      "source": [
        "<a href=\"https://colab.research.google.com/github/anitakumari16022/electricity_bill/blob/main/form_java.ipynb\" target=\"_parent\"><img src=\"https://colab.research.google.com/assets/colab-badge.svg\" alt=\"Open In Colab\"/></a>"
      ]
    },
    {
      "cell_type": "markdown",
      "source": [],
      "metadata": {
        "id": "RWRm_qscdn0E"
      }
    },
    {
      "cell_type": "markdown",
      "source": [],
      "metadata": {
        "id": "awkVOzmPh9cw"
      }
    },
    {
      "cell_type": "markdown",
      "source": [],
      "metadata": {
        "id": "SIXYX3mriSVc"
      }
    },
    {
      "cell_type": "code",
      "source": [
        "A=int(input(\"enter a number:\"))\n",
        "B=int(input(\"enter a number:\"))\n",
        "C=int(input(\"enter a number:\"))\n",
        "if A>B:\n",
        "  if A>C:\n",
        "    Print(A,\"A is greater\")\n",
        "  else:\n",
        "    print(C,\"C is greater\")\n",
        "else:\n",
        "  if B>C:\n",
        "    print(B\"B is greater\")\n",
        "  else:\n",
        "    print(C,\"C is greater\")"
      ],
      "metadata": {
        "colab": {
          "base_uri": "https://localhost:8080/"
        },
        "id": "uDJ-2po7uGbh",
        "outputId": "07b2360a-617d-4afa-b380-8189e6b49431"
      },
      "execution_count": null,
      "outputs": [
        {
          "output_type": "stream",
          "name": "stdout",
          "text": [
            "enter a number:5\n",
            "enter a number:4\n",
            "enter a number:9\n",
            "9 C is greater\n"
          ]
        }
      ]
    },
    {
      "cell_type": "code",
      "source": [
        "#electricity bill\n",
        "A=int(input(\"enter a the unit:\"))\n",
        "fc=300\n",
        "rate=3\n",
        "if(A>=0 and A<=100):\n",
        "    total_bill=A*3+fc\n",
        "    print(total_bill,\"is the total bill\")\n",
        "elif(A>=100 and A<=500):\n",
        "     rate=4\n",
        "     total_bill=A*4+fc\n",
        "     print(total_bill,\"is the total bill\")\n",
        "elif(A>=500):\n",
        "     rate=5\n",
        "     total_bill=A*5+fc\n",
        "     print(total_bill,\"is the total bill\")\n",
        "     if(total_bill>=3000):\n",
        "       total_bill=total_bill-0.1*total_bill\n",
        "       print(total_bill,\"is the total bill\")\n",
        "else:"
      ],
      "metadata": {
        "colab": {
          "base_uri": "https://localhost:8080/",
          "height": 106
        },
        "id": "8LzYKCTLvye5",
        "outputId": "08ce53c4-4573-41bc-9bad-89a682acafd6"
      },
      "execution_count": null,
      "outputs": [
        {
          "output_type": "error",
          "ename": "SyntaxError",
          "evalue": "invalid syntax (<ipython-input-50-360e6389b7ce>, line 16)",
          "traceback": [
            "\u001b[0;36m  File \u001b[0;32m\"<ipython-input-50-360e6389b7ce>\"\u001b[0;36m, line \u001b[0;32m16\u001b[0m\n\u001b[0;31m    elif(total_bill>=3000):\u001b[0m\n\u001b[0m    ^\u001b[0m\n\u001b[0;31mSyntaxError\u001b[0m\u001b[0;31m:\u001b[0m invalid syntax\n"
          ]
        }
      ]
    },
    {
      "cell_type": "code",
      "source": [
        "\n",
        "N=int(input(\"enter a number:\"))\n",
        "for i in range(1,11):\n",
        "  T=N*i\n",
        "  print(T)\n"
      ],
      "metadata": {
        "id": "xKp3MYOKzDC_",
        "colab": {
          "base_uri": "https://localhost:8080/"
        },
        "outputId": "94fe85c5-c600-49a3-a138-4f9cb9baff19"
      },
      "execution_count": null,
      "outputs": [
        {
          "output_type": "stream",
          "name": "stdout",
          "text": [
            "enter a number:6\n",
            "6\n",
            "12\n",
            "18\n",
            "24\n",
            "30\n",
            "36\n",
            "42\n",
            "48\n",
            "54\n",
            "60\n"
          ]
        }
      ]
    },
    {
      "cell_type": "code",
      "source": [
        "N=int(input(\"enter a number:\"))\n",
        "a=0\n",
        "b=1\n",
        "for i in range(1,N+1):\n",
        "  print(a)\n",
        "  c=a+b\n",
        "  a=b\n",
        "  b=c"
      ],
      "metadata": {
        "id": "E2CzwRcFEjwI"
      },
      "execution_count": null,
      "outputs": []
    }
  ]
}